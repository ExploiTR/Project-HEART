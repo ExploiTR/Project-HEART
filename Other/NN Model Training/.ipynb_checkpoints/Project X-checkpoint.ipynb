{
 "cells": [
  {
   "cell_type": "code",
   "execution_count": 1,
   "id": "6a072531",
   "metadata": {},
   "outputs": [],
   "source": [
    "import tensorflow as tf\n",
    "import pandas as pd\n",
    "import numpy as np\n",
    "import matplotlib.pyplot as plt\n",
    "import os"
   ]
  },
  {
   "cell_type": "code",
   "execution_count": 2,
   "id": "3e40409f",
   "metadata": {},
   "outputs": [],
   "source": [
    "from tensorflow import keras\n",
    "from sklearn.metrics import confusion_matrix,classification_report,accuracy_score\n",
    "import seaborn as sn\n",
    "from tensorflow.keras.models import load_model"
   ]
  },
  {
   "cell_type": "code",
   "execution_count": 4,
   "id": "ef6b97d6",
   "metadata": {},
   "outputs": [],
   "source": [
    "train = pd.read_csv(\"train.csv\",header = None, index_col = False)"
   ]
  },
  {
   "cell_type": "code",
   "execution_count": 5,
   "id": "26386769",
   "metadata": {},
   "outputs": [],
   "source": [
    "normal = pd.read_csv(\"normal.csv\",header = None, index_col = False)"
   ]
  },
  {
   "cell_type": "code",
   "execution_count": 6,
   "id": "b7de44e6",
   "metadata": {},
   "outputs": [],
   "source": [
    "abnormal = pd.read_csv(\"abnormal.csv\",header = None, index_col = False)"
   ]
  },
  {
   "cell_type": "code",
   "execution_count": 7,
   "id": "f7f71326",
   "metadata": {},
   "outputs": [],
   "source": [
    "test = pd.read_csv(\"test.csv\",header = None, index_col = False)"
   ]
  },
  {
   "cell_type": "code",
   "execution_count": 8,
   "id": "b39e5ffc",
   "metadata": {},
   "outputs": [],
   "source": [
    "type_a = [\"Non Ectopic beats (Normal beats)\",'Supraventrical ectopic beats',\"Ventricular ectopic beats\",'Fusion beats','Unknown beats']"
   ]
  },
  {
   "cell_type": "code",
   "execution_count": 9,
   "id": "6463aac3",
   "metadata": {},
   "outputs": [],
   "source": [
    "train.loc[train[187] == 0, 'name_match'] = type_a[0]  \n",
    "train.loc[train[187] == 1, 'name_match'] = type_a[1]  \n",
    "train.loc[train[187] == 2, 'name_match'] = type_a[2]  \n",
    "train.loc[train[187] == 3, 'name_match'] = type_a[3] \n",
    "train.loc[train[187] == 4, 'name_match'] = type_a[4] "
   ]
  },
  {
   "cell_type": "code",
   "execution_count": 10,
   "id": "614c71a1",
   "metadata": {},
   "outputs": [],
   "source": [
    "cond = train[187].unique()"
   ]
  },
  {
   "cell_type": "code",
   "execution_count": 11,
   "id": "da4620bd",
   "metadata": {},
   "outputs": [],
   "source": [
    "#for a in cond:\n",
    "#    train1 = train[train[187] == a].head(1)\n",
    "#    aa = train1.loc[:,0:186].to_numpy()\n",
    "#    xx = np.arange(0,187)\n",
    "#    plt.plot(xx,aa[0])\n",
    "#    plt.title(type_a[int(a)])\n",
    "#    plt.show()"
   ]
  },
  {
   "cell_type": "code",
   "execution_count": 12,
   "id": "6da526eb",
   "metadata": {},
   "outputs": [],
   "source": [
    "x = train.drop([187,'name_match'], axis = 'columns')"
   ]
  },
  {
   "cell_type": "code",
   "execution_count": 13,
   "id": "c54df7aa",
   "metadata": {},
   "outputs": [],
   "source": [
    "y = train[187]"
   ]
  },
  {
   "cell_type": "code",
   "execution_count": 14,
   "id": "028349e3",
   "metadata": {},
   "outputs": [
    {
     "data": {
      "text/plain": [
       "0        0\n",
       "1        0\n",
       "2        0\n",
       "3        0\n",
       "4        0\n",
       "        ..\n",
       "87549    4\n",
       "87550    4\n",
       "87551    4\n",
       "87552    4\n",
       "87553    4\n",
       "Name: 187, Length: 87554, dtype: int64"
      ]
     },
     "execution_count": 14,
     "metadata": {},
     "output_type": "execute_result"
    }
   ],
   "source": [
    "y.astype('int64')"
   ]
  },
  {
   "cell_type": "code",
   "execution_count": 15,
   "id": "91422776",
   "metadata": {},
   "outputs": [],
   "source": [
    "model = keras.Sequential([\n",
    "    keras.layers.Dense(187,input_shape = (187,),activation = 'relu'),\n",
    "    keras.layers.Dense(500,activation = 'relu'),\n",
    "    keras.layers.Dropout(0.05),\n",
    "    keras.layers.Dense(1000,activation = 'relu'),\n",
    "    keras.layers.Dropout(0.10),\n",
    "    keras.layers.Dense(2500,activation = 'relu'),\n",
    "    keras.layers.Dropout(0.25),\n",
    "    keras.layers.Dense(5000,activation = 'relu'),\n",
    "    keras.layers.Dropout(0.50),\n",
    "    keras.layers.Dense(5,activation = 'softmax')\n",
    "])"
   ]
  },
  {
   "cell_type": "code",
   "execution_count": 16,
   "id": "587a7bfd",
   "metadata": {},
   "outputs": [],
   "source": [
    "model.compile(optimizer = 'adam',\n",
    "             loss = 'sparse_categorical_crossentropy',\n",
    "             metrics = ['accuracy']\n",
    "             )"
   ]
  },
  {
   "cell_type": "code",
   "execution_count": null,
   "id": "5f66a4f7",
   "metadata": {
    "scrolled": false
   },
   "outputs": [
    {
     "name": "stdout",
     "output_type": "stream",
     "text": [
      "Epoch 1/10\n",
      "1726/2737 [=================>............] - ETA: 7s - loss: 0.2529 - accuracy: 0.9322"
     ]
    }
   ],
   "source": [
    "model.fit(x,y,epochs=10)"
   ]
  },
  {
   "cell_type": "code",
   "execution_count": null,
   "id": "6c9da677",
   "metadata": {
    "scrolled": true
   },
   "outputs": [],
   "source": [
    "y1 = test[187]\n",
    "y1.astype('int64')"
   ]
  },
  {
   "cell_type": "code",
   "execution_count": null,
   "id": "e1c43d8d",
   "metadata": {},
   "outputs": [],
   "source": [
    "x1 = test.drop([187], axis = 'columns')"
   ]
  },
  {
   "cell_type": "code",
   "execution_count": null,
   "id": "120ce8af",
   "metadata": {},
   "outputs": [],
   "source": [
    "yp = model.predict(x1)"
   ]
  },
  {
   "cell_type": "code",
   "execution_count": null,
   "id": "ada7631c",
   "metadata": {},
   "outputs": [],
   "source": [
    "ypred = []\n",
    "for i in range(len(yp)):\n",
    "    ypred.append(np.argmax(yp[i]))"
   ]
  },
  {
   "cell_type": "code",
   "execution_count": null,
   "id": "be683de0",
   "metadata": {},
   "outputs": [],
   "source": [
    "cm = tf.math.confusion_matrix(labels=y1, predictions=ypred)\n",
    "\n",
    "plt.figure(figsize=(10, 7))\n",
    "sn.heatmap(cm, annot=True, fmt='d')\n",
    "plt.xlabel('Predicted')\n",
    "plt.ylabel('Truth')"
   ]
  },
  {
   "cell_type": "code",
   "execution_count": null,
   "id": "3d446a74",
   "metadata": {},
   "outputs": [],
   "source": [
    "print(classification_report(y1,ypred))"
   ]
  },
  {
   "cell_type": "code",
   "execution_count": null,
   "id": "a65a24b2",
   "metadata": {},
   "outputs": [],
   "source": [
    "if os.path.isfile('./ecg_analysis_model.h5') is False:\n",
    "    model.save('./ecg_analysis_model.h5')\n",
    "new_model = load_model('./ecg_analysis_model.h5')"
   ]
  },
  {
   "cell_type": "code",
   "execution_count": null,
   "id": "415e962c",
   "metadata": {
    "scrolled": true
   },
   "outputs": [],
   "source": [
    "new_model.summary()"
   ]
  },
  {
   "cell_type": "code",
   "execution_count": null,
   "id": "9c832480",
   "metadata": {},
   "outputs": [],
   "source": []
  }
 ],
 "metadata": {
  "kernelspec": {
   "display_name": "Python 3 (ipykernel)",
   "language": "python",
   "name": "python3"
  },
  "language_info": {
   "codemirror_mode": {
    "name": "ipython",
    "version": 3
   },
   "file_extension": ".py",
   "mimetype": "text/x-python",
   "name": "python",
   "nbconvert_exporter": "python",
   "pygments_lexer": "ipython3",
   "version": "3.9.7"
  }
 },
 "nbformat": 4,
 "nbformat_minor": 5
}
